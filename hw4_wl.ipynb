{
 "cells": [
  {
   "cell_type": "code",
   "execution_count": 2,
   "metadata": {},
   "outputs": [],
   "source": [
    "import pandas as pd\n",
    "import numpy as np\n",
    "from scipy.optimize import minimize"
   ]
  },
  {
   "cell_type": "code",
   "execution_count": 3,
   "metadata": {},
   "outputs": [],
   "source": [
    "df = pd.read_csv('homework4data.csv')"
   ]
  },
  {
   "cell_type": "code",
   "execution_count": 4,
   "metadata": {},
   "outputs": [],
   "source": [
    "for i in range(1, 11):\n",
    "    df[f'R_dec{i}'] = df[f'R_dec{i}']/(1 + df['inflation'])"
   ]
  },
  {
   "cell_type": "code",
   "execution_count": 5,
   "metadata": {},
   "outputs": [],
   "source": [
    "R = df.iloc[:,3:13].copy()\n",
    "C = df.iloc[:, 13]"
   ]
  },
  {
   "cell_type": "code",
   "execution_count": 18,
   "metadata": {},
   "outputs": [
    {
     "data": {
      "text/html": [
       "<div>\n",
       "<style scoped>\n",
       "    .dataframe tbody tr th:only-of-type {\n",
       "        vertical-align: middle;\n",
       "    }\n",
       "\n",
       "    .dataframe tbody tr th {\n",
       "        vertical-align: top;\n",
       "    }\n",
       "\n",
       "    .dataframe thead th {\n",
       "        text-align: right;\n",
       "    }\n",
       "</style>\n",
       "<table border=\"1\" class=\"dataframe\">\n",
       "  <thead>\n",
       "    <tr style=\"text-align: right;\">\n",
       "      <th></th>\n",
       "      <th>year</th>\n",
       "      <th>quarter</th>\n",
       "      <th>inflation</th>\n",
       "      <th>R_dec1</th>\n",
       "      <th>R_dec2</th>\n",
       "      <th>R_dec3</th>\n",
       "      <th>R_dec4</th>\n",
       "      <th>R_dec5</th>\n",
       "      <th>R_dec6</th>\n",
       "      <th>R_dec7</th>\n",
       "      <th>R_dec8</th>\n",
       "      <th>R_dec9</th>\n",
       "      <th>R_dec10</th>\n",
       "      <th>c_growth</th>\n",
       "    </tr>\n",
       "  </thead>\n",
       "  <tbody>\n",
       "    <tr>\n",
       "      <th>0</th>\n",
       "      <td>1951</td>\n",
       "      <td>1</td>\n",
       "      <td>0.036029</td>\n",
       "      <td>1.020913</td>\n",
       "      <td>1.044708</td>\n",
       "      <td>1.030644</td>\n",
       "      <td>1.001699</td>\n",
       "      <td>1.024529</td>\n",
       "      <td>1.016648</td>\n",
       "      <td>0.985931</td>\n",
       "      <td>0.979960</td>\n",
       "      <td>0.989741</td>\n",
       "      <td>0.994186</td>\n",
       "      <td>1.018434</td>\n",
       "    </tr>\n",
       "    <tr>\n",
       "      <th>1</th>\n",
       "      <td>1951</td>\n",
       "      <td>2</td>\n",
       "      <td>0.001932</td>\n",
       "      <td>1.020057</td>\n",
       "      <td>0.966831</td>\n",
       "      <td>0.977981</td>\n",
       "      <td>0.996064</td>\n",
       "      <td>1.094779</td>\n",
       "      <td>0.980945</td>\n",
       "      <td>0.988464</td>\n",
       "      <td>0.984889</td>\n",
       "      <td>0.975979</td>\n",
       "      <td>0.910829</td>\n",
       "      <td>0.991540</td>\n",
       "    </tr>\n",
       "    <tr>\n",
       "      <th>2</th>\n",
       "      <td>1951</td>\n",
       "      <td>3</td>\n",
       "      <td>0.003857</td>\n",
       "      <td>1.103889</td>\n",
       "      <td>1.127832</td>\n",
       "      <td>1.124744</td>\n",
       "      <td>1.113361</td>\n",
       "      <td>1.105242</td>\n",
       "      <td>1.123325</td>\n",
       "      <td>1.149766</td>\n",
       "      <td>1.147985</td>\n",
       "      <td>1.168448</td>\n",
       "      <td>1.167026</td>\n",
       "      <td>1.012247</td>\n",
       "    </tr>\n",
       "    <tr>\n",
       "      <th>3</th>\n",
       "      <td>1951</td>\n",
       "      <td>4</td>\n",
       "      <td>0.016904</td>\n",
       "      <td>0.994641</td>\n",
       "      <td>0.994440</td>\n",
       "      <td>0.989746</td>\n",
       "      <td>1.013669</td>\n",
       "      <td>1.001783</td>\n",
       "      <td>1.052100</td>\n",
       "      <td>1.000315</td>\n",
       "      <td>0.993793</td>\n",
       "      <td>0.980017</td>\n",
       "      <td>0.959764</td>\n",
       "      <td>1.002567</td>\n",
       "    </tr>\n",
       "    <tr>\n",
       "      <th>4</th>\n",
       "      <td>1952</td>\n",
       "      <td>1</td>\n",
       "      <td>-0.003022</td>\n",
       "      <td>1.018307</td>\n",
       "      <td>1.040207</td>\n",
       "      <td>1.035044</td>\n",
       "      <td>1.044681</td>\n",
       "      <td>1.026380</td>\n",
       "      <td>1.060304</td>\n",
       "      <td>1.075296</td>\n",
       "      <td>1.062240</td>\n",
       "      <td>1.016569</td>\n",
       "      <td>1.111785</td>\n",
       "      <td>0.997546</td>\n",
       "    </tr>\n",
       "    <tr>\n",
       "      <th>...</th>\n",
       "      <td>...</td>\n",
       "      <td>...</td>\n",
       "      <td>...</td>\n",
       "      <td>...</td>\n",
       "      <td>...</td>\n",
       "      <td>...</td>\n",
       "      <td>...</td>\n",
       "      <td>...</td>\n",
       "      <td>...</td>\n",
       "      <td>...</td>\n",
       "      <td>...</td>\n",
       "      <td>...</td>\n",
       "      <td>...</td>\n",
       "      <td>...</td>\n",
       "    </tr>\n",
       "    <tr>\n",
       "      <th>279</th>\n",
       "      <td>2020</td>\n",
       "      <td>4</td>\n",
       "      <td>0.005281</td>\n",
       "      <td>1.118409</td>\n",
       "      <td>1.131008</td>\n",
       "      <td>1.115232</td>\n",
       "      <td>1.173002</td>\n",
       "      <td>1.162266</td>\n",
       "      <td>1.249483</td>\n",
       "      <td>1.180309</td>\n",
       "      <td>1.221172</td>\n",
       "      <td>1.329960</td>\n",
       "      <td>1.316982</td>\n",
       "      <td>1.008697</td>\n",
       "    </tr>\n",
       "    <tr>\n",
       "      <th>280</th>\n",
       "      <td>2021</td>\n",
       "      <td>1</td>\n",
       "      <td>0.013243</td>\n",
       "      <td>0.973560</td>\n",
       "      <td>1.039409</td>\n",
       "      <td>1.072095</td>\n",
       "      <td>1.073011</td>\n",
       "      <td>1.070868</td>\n",
       "      <td>1.153765</td>\n",
       "      <td>1.166956</td>\n",
       "      <td>1.172230</td>\n",
       "      <td>1.226833</td>\n",
       "      <td>1.266403</td>\n",
       "      <td>1.016547</td>\n",
       "    </tr>\n",
       "    <tr>\n",
       "      <th>281</th>\n",
       "      <td>2021</td>\n",
       "      <td>2</td>\n",
       "      <td>0.022364</td>\n",
       "      <td>1.087829</td>\n",
       "      <td>1.046829</td>\n",
       "      <td>1.073685</td>\n",
       "      <td>1.005746</td>\n",
       "      <td>1.025081</td>\n",
       "      <td>1.030578</td>\n",
       "      <td>1.018775</td>\n",
       "      <td>1.034164</td>\n",
       "      <td>1.051924</td>\n",
       "      <td>1.068275</td>\n",
       "      <td>1.028766</td>\n",
       "    </tr>\n",
       "    <tr>\n",
       "      <th>282</th>\n",
       "      <td>2021</td>\n",
       "      <td>3</td>\n",
       "      <td>0.012028</td>\n",
       "      <td>0.997909</td>\n",
       "      <td>0.979816</td>\n",
       "      <td>1.000960</td>\n",
       "      <td>0.959802</td>\n",
       "      <td>0.954546</td>\n",
       "      <td>0.962904</td>\n",
       "      <td>0.972831</td>\n",
       "      <td>0.980710</td>\n",
       "      <td>0.993707</td>\n",
       "      <td>1.017669</td>\n",
       "      <td>1.015357</td>\n",
       "    </tr>\n",
       "    <tr>\n",
       "      <th>283</th>\n",
       "      <td>2021</td>\n",
       "      <td>4</td>\n",
       "      <td>0.021560</td>\n",
       "      <td>1.084453</td>\n",
       "      <td>1.008081</td>\n",
       "      <td>1.005647</td>\n",
       "      <td>0.991723</td>\n",
       "      <td>0.950458</td>\n",
       "      <td>1.007920</td>\n",
       "      <td>0.970344</td>\n",
       "      <td>1.004160</td>\n",
       "      <td>0.992547</td>\n",
       "      <td>0.955654</td>\n",
       "      <td>1.005407</td>\n",
       "    </tr>\n",
       "  </tbody>\n",
       "</table>\n",
       "<p>284 rows × 14 columns</p>\n",
       "</div>"
      ],
      "text/plain": [
       "     year  quarter  inflation    R_dec1    R_dec2    R_dec3    R_dec4  \\\n",
       "0    1951        1   0.036029  1.020913  1.044708  1.030644  1.001699   \n",
       "1    1951        2   0.001932  1.020057  0.966831  0.977981  0.996064   \n",
       "2    1951        3   0.003857  1.103889  1.127832  1.124744  1.113361   \n",
       "3    1951        4   0.016904  0.994641  0.994440  0.989746  1.013669   \n",
       "4    1952        1  -0.003022  1.018307  1.040207  1.035044  1.044681   \n",
       "..    ...      ...        ...       ...       ...       ...       ...   \n",
       "279  2020        4   0.005281  1.118409  1.131008  1.115232  1.173002   \n",
       "280  2021        1   0.013243  0.973560  1.039409  1.072095  1.073011   \n",
       "281  2021        2   0.022364  1.087829  1.046829  1.073685  1.005746   \n",
       "282  2021        3   0.012028  0.997909  0.979816  1.000960  0.959802   \n",
       "283  2021        4   0.021560  1.084453  1.008081  1.005647  0.991723   \n",
       "\n",
       "       R_dec5    R_dec6    R_dec7    R_dec8    R_dec9   R_dec10  c_growth  \n",
       "0    1.024529  1.016648  0.985931  0.979960  0.989741  0.994186  1.018434  \n",
       "1    1.094779  0.980945  0.988464  0.984889  0.975979  0.910829  0.991540  \n",
       "2    1.105242  1.123325  1.149766  1.147985  1.168448  1.167026  1.012247  \n",
       "3    1.001783  1.052100  1.000315  0.993793  0.980017  0.959764  1.002567  \n",
       "4    1.026380  1.060304  1.075296  1.062240  1.016569  1.111785  0.997546  \n",
       "..        ...       ...       ...       ...       ...       ...       ...  \n",
       "279  1.162266  1.249483  1.180309  1.221172  1.329960  1.316982  1.008697  \n",
       "280  1.070868  1.153765  1.166956  1.172230  1.226833  1.266403  1.016547  \n",
       "281  1.025081  1.030578  1.018775  1.034164  1.051924  1.068275  1.028766  \n",
       "282  0.954546  0.962904  0.972831  0.980710  0.993707  1.017669  1.015357  \n",
       "283  0.950458  1.007920  0.970344  1.004160  0.992547  0.955654  1.005407  \n",
       "\n",
       "[284 rows x 14 columns]"
      ]
     },
     "execution_count": 18,
     "metadata": {},
     "output_type": "execute_result"
    }
   ],
   "source": [
    "df"
   ]
  },
  {
   "cell_type": "markdown",
   "metadata": {},
   "source": [
    "## Orthogonal\n",
    "By plugging $M_{t+1}$ in to $E_t(M_{t+1}R^R_{i,t+1}) = 1$, we have the orthogonality conditions:\n",
    "$$\n",
    "\\mathbb{E} \\left[ \\beta \\left( \\frac{C_{t+1}}{C_t} \\right)^{-\\alpha} R_{i,t+1} - 1 \\right] = 0\n",
    "$$\n",
    "for $i = 1, \\ldots, 10,$"
   ]
  },
  {
   "cell_type": "markdown",
   "metadata": {},
   "source": [
    "Define, $\\theta = (\\alpha, \\beta)$\n",
    "$$\n",
    "f_t(\\theta) = \\begin{bmatrix}\n",
    "    \\beta \\left( \\frac{C_{t+1}}{C_t} \\right)^{-\\alpha} R_{1,t+1} - 1\\\\\n",
    "    \\vdots \\\\\n",
    "    \\beta \\left( \\frac{C_{t+1}}{C_t} \\right)^{-\\alpha} R_{10,t+1} - 1\n",
    "\\end{bmatrix}\n",
    "$$\n",
    "\n",
    "Then we have the othrogonal condition:\n",
    "$$\n",
    "g_T(\\theta) = \\frac{1}{T} \\sum_{t=1}^T f_t(\\theta)\n",
    "$$"
   ]
  },
  {
   "cell_type": "markdown",
   "metadata": {},
   "source": [
    "## implementation:\n",
    "Clearly, $q = 2, r = 10, q < r$.\n",
    "- First Stage:\n",
    "$$\n",
    "\\hat{\\theta}_1 = \\arg \\min_{\\theta} [g_T(\\theta)'] I [g_T(\\theta)]\n",
    "$$\n",
    "\n",
    "\n",
    "- Second Stage:\n",
    "$$\n",
    "\\hat{\\theta}_2 = \\arg \\min_{\\theta} [g_T(\\theta)'] \\hat{S}^{-1} [g_T(\\theta)]\n",
    "$$\n",
    "\n",
    "Where S is the covariance matrix of f.\n",
    "$$\n",
    "\\hat{S} = \\frac{1}{T} \\sum_{t=1}^T [f_t(\\hat{\\theta}_1)] [f_t(\\hat{\\theta}_1)]'\n",
    "$$"
   ]
  },
  {
   "cell_type": "markdown",
   "metadata": {},
   "source": [
    "## asymptotic variance:\n",
    "$$\n",
    "\\text{asymp var}(\\hat{\\theta}_2) = \\frac{1}{T} \\left( \\hat{D}' \\hat{S}^{-1} \\hat{D} \\right)^{-1}\n",
    "$$\n",
    "\n",
    "where\n",
    "$$\n",
    "\\hat{D} = \\frac{\\partial}{\\partial \\theta'} \\frac{1}{T} \\sum_{t=1}^T f_t(\\hat{\\theta}_2)\n",
    "$$"
   ]
  },
  {
   "cell_type": "code",
   "execution_count": 6,
   "metadata": {},
   "outputs": [],
   "source": [
    "R_np = np.array(R)\n",
    "C_np = np.array(C)"
   ]
  },
  {
   "cell_type": "code",
   "execution_count": 7,
   "metadata": {},
   "outputs": [
    {
     "data": {
      "text/plain": [
       "((284, 10), (284,))"
      ]
     },
     "execution_count": 7,
     "metadata": {},
     "output_type": "execute_result"
    }
   ],
   "source": [
    "R_np.shape,C_np.shape"
   ]
  },
  {
   "cell_type": "code",
   "execution_count": 8,
   "metadata": {},
   "outputs": [],
   "source": [
    "def othro(theta):\n",
    "    b,a = theta\n",
    "\n",
    "    # f = np.multiply(R_np, ((C_np)**(-a)).reshape(-1, 1)) \n",
    "    f = np.multiply(R_np, np.matrix(((C_np)**(-a))).T)\n",
    "    f = b * f - 1\n",
    "    return f\n",
    "\n",
    "def obj(theta,W):\n",
    "    b,a = theta\n",
    "    f = othro(theta)\n",
    "    g = f.mean(axis = 0)\n",
    "    # W = np.identity(10)\n",
    "    return (g@W@g.T)[0,0]\n",
    "\n",
    "def getS(theta):\n",
    "    T = R.shape[0]\n",
    "    f = othro(theta)\n",
    "    return (1/T)*f.T@f\n",
    "\n",
    "def GMM1():\n",
    "    theta_0 = [1,1]\n",
    "    W = np.identity(10)\n",
    "    model_1 = minimize(obj, x0=theta_0, args=(W))\n",
    "    theta1 = model_1.x\n",
    "    return theta1\n",
    "\n",
    "def GMM2(theta_1):\n",
    "    W = np.linalg.inv(getS(theta_1))\n",
    "    model_2 = minimize(obj, x0=theta_1, args=(W))\n",
    "    theta2 = model_2.x\n",
    "    return theta2"
   ]
  },
  {
   "cell_type": "markdown",
   "metadata": {},
   "source": [
    "#### full data set"
   ]
  },
  {
   "cell_type": "code",
   "execution_count": 9,
   "metadata": {},
   "outputs": [
    {
     "data": {
      "text/plain": [
       "array([0.98028903, 1.00008814])"
      ]
     },
     "execution_count": 9,
     "metadata": {},
     "output_type": "execute_result"
    }
   ],
   "source": [
    "theta1 = GMM1()\n",
    "theta1"
   ]
  },
  {
   "cell_type": "code",
   "execution_count": 10,
   "metadata": {},
   "outputs": [
    {
     "data": {
      "text/plain": [
       "array([ 0.97762048, -0.41463372])"
      ]
     },
     "execution_count": 10,
     "metadata": {},
     "output_type": "execute_result"
    }
   ],
   "source": [
    "theta2 = GMM2(theta1)\n",
    "theta2"
   ]
  },
  {
   "cell_type": "markdown",
   "metadata": {},
   "source": [
    "#### data till 2019"
   ]
  },
  {
   "cell_type": "code",
   "execution_count": 11,
   "metadata": {},
   "outputs": [
    {
     "data": {
      "text/html": [
       "<div>\n",
       "<style scoped>\n",
       "    .dataframe tbody tr th:only-of-type {\n",
       "        vertical-align: middle;\n",
       "    }\n",
       "\n",
       "    .dataframe tbody tr th {\n",
       "        vertical-align: top;\n",
       "    }\n",
       "\n",
       "    .dataframe thead th {\n",
       "        text-align: right;\n",
       "    }\n",
       "</style>\n",
       "<table border=\"1\" class=\"dataframe\">\n",
       "  <thead>\n",
       "    <tr style=\"text-align: right;\">\n",
       "      <th></th>\n",
       "      <th>quarter</th>\n",
       "      <th>inflation</th>\n",
       "      <th>R_dec1</th>\n",
       "      <th>R_dec2</th>\n",
       "      <th>R_dec3</th>\n",
       "      <th>R_dec4</th>\n",
       "      <th>R_dec5</th>\n",
       "      <th>R_dec6</th>\n",
       "      <th>R_dec7</th>\n",
       "      <th>R_dec8</th>\n",
       "      <th>R_dec9</th>\n",
       "      <th>R_dec10</th>\n",
       "      <th>c_growth</th>\n",
       "    </tr>\n",
       "    <tr>\n",
       "      <th>year</th>\n",
       "      <th></th>\n",
       "      <th></th>\n",
       "      <th></th>\n",
       "      <th></th>\n",
       "      <th></th>\n",
       "      <th></th>\n",
       "      <th></th>\n",
       "      <th></th>\n",
       "      <th></th>\n",
       "      <th></th>\n",
       "      <th></th>\n",
       "      <th></th>\n",
       "      <th></th>\n",
       "    </tr>\n",
       "  </thead>\n",
       "  <tbody>\n",
       "    <tr>\n",
       "      <th>1951</th>\n",
       "      <td>1</td>\n",
       "      <td>0.036029</td>\n",
       "      <td>1.020913</td>\n",
       "      <td>1.044708</td>\n",
       "      <td>1.030644</td>\n",
       "      <td>1.001699</td>\n",
       "      <td>1.024529</td>\n",
       "      <td>1.016648</td>\n",
       "      <td>0.985931</td>\n",
       "      <td>0.979960</td>\n",
       "      <td>0.989741</td>\n",
       "      <td>0.994186</td>\n",
       "      <td>1.018434</td>\n",
       "    </tr>\n",
       "    <tr>\n",
       "      <th>1951</th>\n",
       "      <td>2</td>\n",
       "      <td>0.001932</td>\n",
       "      <td>1.020057</td>\n",
       "      <td>0.966831</td>\n",
       "      <td>0.977981</td>\n",
       "      <td>0.996064</td>\n",
       "      <td>1.094779</td>\n",
       "      <td>0.980945</td>\n",
       "      <td>0.988464</td>\n",
       "      <td>0.984889</td>\n",
       "      <td>0.975979</td>\n",
       "      <td>0.910829</td>\n",
       "      <td>0.991540</td>\n",
       "    </tr>\n",
       "    <tr>\n",
       "      <th>1951</th>\n",
       "      <td>3</td>\n",
       "      <td>0.003857</td>\n",
       "      <td>1.103889</td>\n",
       "      <td>1.127832</td>\n",
       "      <td>1.124744</td>\n",
       "      <td>1.113361</td>\n",
       "      <td>1.105242</td>\n",
       "      <td>1.123325</td>\n",
       "      <td>1.149766</td>\n",
       "      <td>1.147985</td>\n",
       "      <td>1.168448</td>\n",
       "      <td>1.167026</td>\n",
       "      <td>1.012247</td>\n",
       "    </tr>\n",
       "    <tr>\n",
       "      <th>1951</th>\n",
       "      <td>4</td>\n",
       "      <td>0.016904</td>\n",
       "      <td>0.994641</td>\n",
       "      <td>0.994440</td>\n",
       "      <td>0.989746</td>\n",
       "      <td>1.013669</td>\n",
       "      <td>1.001783</td>\n",
       "      <td>1.052100</td>\n",
       "      <td>1.000315</td>\n",
       "      <td>0.993793</td>\n",
       "      <td>0.980017</td>\n",
       "      <td>0.959764</td>\n",
       "      <td>1.002567</td>\n",
       "    </tr>\n",
       "    <tr>\n",
       "      <th>1952</th>\n",
       "      <td>1</td>\n",
       "      <td>-0.003022</td>\n",
       "      <td>1.018307</td>\n",
       "      <td>1.040207</td>\n",
       "      <td>1.035044</td>\n",
       "      <td>1.044681</td>\n",
       "      <td>1.026380</td>\n",
       "      <td>1.060304</td>\n",
       "      <td>1.075296</td>\n",
       "      <td>1.062240</td>\n",
       "      <td>1.016569</td>\n",
       "      <td>1.111785</td>\n",
       "      <td>0.997546</td>\n",
       "    </tr>\n",
       "    <tr>\n",
       "      <th>...</th>\n",
       "      <td>...</td>\n",
       "      <td>...</td>\n",
       "      <td>...</td>\n",
       "      <td>...</td>\n",
       "      <td>...</td>\n",
       "      <td>...</td>\n",
       "      <td>...</td>\n",
       "      <td>...</td>\n",
       "      <td>...</td>\n",
       "      <td>...</td>\n",
       "      <td>...</td>\n",
       "      <td>...</td>\n",
       "      <td>...</td>\n",
       "    </tr>\n",
       "    <tr>\n",
       "      <th>2018</th>\n",
       "      <td>4</td>\n",
       "      <td>0.001237</td>\n",
       "      <td>0.842432</td>\n",
       "      <td>0.827606</td>\n",
       "      <td>0.890815</td>\n",
       "      <td>0.882957</td>\n",
       "      <td>0.855474</td>\n",
       "      <td>0.863667</td>\n",
       "      <td>0.843136</td>\n",
       "      <td>0.872271</td>\n",
       "      <td>0.818580</td>\n",
       "      <td>0.781356</td>\n",
       "      <td>1.002969</td>\n",
       "    </tr>\n",
       "    <tr>\n",
       "      <th>2019</th>\n",
       "      <td>1</td>\n",
       "      <td>0.006818</td>\n",
       "      <td>1.163104</td>\n",
       "      <td>1.152235</td>\n",
       "      <td>1.110635</td>\n",
       "      <td>1.124476</td>\n",
       "      <td>1.136587</td>\n",
       "      <td>1.137948</td>\n",
       "      <td>1.093958</td>\n",
       "      <td>1.061177</td>\n",
       "      <td>1.115110</td>\n",
       "      <td>1.089859</td>\n",
       "      <td>1.000840</td>\n",
       "    </tr>\n",
       "    <tr>\n",
       "      <th>2019</th>\n",
       "      <td>2</td>\n",
       "      <td>0.004279</td>\n",
       "      <td>1.038242</td>\n",
       "      <td>1.047690</td>\n",
       "      <td>1.023369</td>\n",
       "      <td>1.036786</td>\n",
       "      <td>1.046448</td>\n",
       "      <td>1.038050</td>\n",
       "      <td>0.987663</td>\n",
       "      <td>1.046942</td>\n",
       "      <td>1.041554</td>\n",
       "      <td>1.048718</td>\n",
       "      <td>1.005626</td>\n",
       "    </tr>\n",
       "    <tr>\n",
       "      <th>2019</th>\n",
       "      <td>3</td>\n",
       "      <td>0.004836</td>\n",
       "      <td>0.999830</td>\n",
       "      <td>1.013926</td>\n",
       "      <td>0.999542</td>\n",
       "      <td>1.006978</td>\n",
       "      <td>1.002458</td>\n",
       "      <td>1.006701</td>\n",
       "      <td>1.000681</td>\n",
       "      <td>1.026468</td>\n",
       "      <td>0.974555</td>\n",
       "      <td>0.959323</td>\n",
       "      <td>1.004929</td>\n",
       "    </tr>\n",
       "    <tr>\n",
       "      <th>2019</th>\n",
       "      <td>4</td>\n",
       "      <td>0.006497</td>\n",
       "      <td>1.087860</td>\n",
       "      <td>1.124495</td>\n",
       "      <td>1.073451</td>\n",
       "      <td>1.084571</td>\n",
       "      <td>1.052883</td>\n",
       "      <td>1.089042</td>\n",
       "      <td>1.067222</td>\n",
       "      <td>1.101846</td>\n",
       "      <td>1.076005</td>\n",
       "      <td>1.088820</td>\n",
       "      <td>1.001844</td>\n",
       "    </tr>\n",
       "  </tbody>\n",
       "</table>\n",
       "<p>276 rows × 13 columns</p>\n",
       "</div>"
      ],
      "text/plain": [
       "      quarter  inflation    R_dec1    R_dec2    R_dec3    R_dec4    R_dec5  \\\n",
       "year                                                                         \n",
       "1951        1   0.036029  1.020913  1.044708  1.030644  1.001699  1.024529   \n",
       "1951        2   0.001932  1.020057  0.966831  0.977981  0.996064  1.094779   \n",
       "1951        3   0.003857  1.103889  1.127832  1.124744  1.113361  1.105242   \n",
       "1951        4   0.016904  0.994641  0.994440  0.989746  1.013669  1.001783   \n",
       "1952        1  -0.003022  1.018307  1.040207  1.035044  1.044681  1.026380   \n",
       "...       ...        ...       ...       ...       ...       ...       ...   \n",
       "2018        4   0.001237  0.842432  0.827606  0.890815  0.882957  0.855474   \n",
       "2019        1   0.006818  1.163104  1.152235  1.110635  1.124476  1.136587   \n",
       "2019        2   0.004279  1.038242  1.047690  1.023369  1.036786  1.046448   \n",
       "2019        3   0.004836  0.999830  1.013926  0.999542  1.006978  1.002458   \n",
       "2019        4   0.006497  1.087860  1.124495  1.073451  1.084571  1.052883   \n",
       "\n",
       "        R_dec6    R_dec7    R_dec8    R_dec9   R_dec10  c_growth  \n",
       "year                                                              \n",
       "1951  1.016648  0.985931  0.979960  0.989741  0.994186  1.018434  \n",
       "1951  0.980945  0.988464  0.984889  0.975979  0.910829  0.991540  \n",
       "1951  1.123325  1.149766  1.147985  1.168448  1.167026  1.012247  \n",
       "1951  1.052100  1.000315  0.993793  0.980017  0.959764  1.002567  \n",
       "1952  1.060304  1.075296  1.062240  1.016569  1.111785  0.997546  \n",
       "...        ...       ...       ...       ...       ...       ...  \n",
       "2018  0.863667  0.843136  0.872271  0.818580  0.781356  1.002969  \n",
       "2019  1.137948  1.093958  1.061177  1.115110  1.089859  1.000840  \n",
       "2019  1.038050  0.987663  1.046942  1.041554  1.048718  1.005626  \n",
       "2019  1.006701  1.000681  1.026468  0.974555  0.959323  1.004929  \n",
       "2019  1.089042  1.067222  1.101846  1.076005  1.088820  1.001844  \n",
       "\n",
       "[276 rows x 13 columns]"
      ]
     },
     "execution_count": 11,
     "metadata": {},
     "output_type": "execute_result"
    }
   ],
   "source": [
    "df_ = df.set_index('year')\n",
    "df_cut = df_.loc[:2019,:]\n",
    "df_cut"
   ]
  },
  {
   "cell_type": "code",
   "execution_count": 12,
   "metadata": {},
   "outputs": [],
   "source": [
    "R_ = df_cut.iloc[:,2:12].copy()\n",
    "C_ = df_cut.iloc[:, 12]\n",
    "R_np_c = np.array(R_)\n",
    "C_np_c = np.array(C_)"
   ]
  },
  {
   "cell_type": "code",
   "execution_count": 15,
   "metadata": {},
   "outputs": [],
   "source": [
    "def othro(theta):\n",
    "    b,a = theta\n",
    "\n",
    "    # f = np.multiply(R_np, ((C_np)**(-a)).reshape(-1, 1)) \n",
    "    f = np.multiply(R_np_c, np.matrix(((C_np_c)**(-a))).T)\n",
    "    f = b * f - 1\n",
    "    return f\n",
    "\n",
    "def obj(theta,W):\n",
    "    b,a = theta\n",
    "    f = othro(theta)\n",
    "    g = f.mean(axis = 0)\n",
    "    # W = np.identity(10)\n",
    "    return (g@W@g.T)[0,0]\n",
    "\n",
    "def getS(theta):\n",
    "    T = R.shape[0]\n",
    "    f = othro(theta)\n",
    "    return (1/T)*f.T@f\n",
    "\n",
    "def GMM1():\n",
    "    theta_0 = [1,1]\n",
    "    W = np.identity(10)\n",
    "    model_1 = minimize(obj, x0=theta_0, args=(W))\n",
    "    theta1 = model_1.x\n",
    "    return theta1\n",
    "\n",
    "def GMM2(theta_1):\n",
    "    W = np.linalg.inv(getS(theta_1))\n",
    "    model_2 = minimize(obj, x0=theta_1, args=(W))\n",
    "    theta2 = model_2.x\n",
    "    return theta2"
   ]
  },
  {
   "cell_type": "code",
   "execution_count": 16,
   "metadata": {},
   "outputs": [
    {
     "data": {
      "text/plain": [
       "array([0.98085905, 1.00008918])"
      ]
     },
     "execution_count": 16,
     "metadata": {},
     "output_type": "execute_result"
    }
   ],
   "source": [
    "theta1_c = GMM1()\n",
    "theta1_c"
   ]
  },
  {
   "cell_type": "code",
   "execution_count": 17,
   "metadata": {},
   "outputs": [
    {
     "data": {
      "text/plain": [
       "array([ 1.18192943, 46.05749789])"
      ]
     },
     "execution_count": 17,
     "metadata": {},
     "output_type": "execute_result"
    }
   ],
   "source": [
    "theta2_c = GMM2(theta1_c)\n",
    "theta2_c"
   ]
  },
  {
   "cell_type": "markdown",
   "metadata": {},
   "source": [
    "By compare the result of the full dataset, the outliers from 2020-2021 bias our estimation of $\\alpha$ to a much smaller value."
   ]
  },
  {
   "cell_type": "markdown",
   "metadata": {},
   "source": [
    "## Asymptotic covariance matrix"
   ]
  },
  {
   "cell_type": "markdown",
   "metadata": {},
   "source": [
    "$$\n",
    "\\sqrt{T} (\\hat{b}_T - b_0) \\overset{L}{\\rightarrow} N(0,V)\n",
    "$$\n",
    "$$\n",
    "V = (D'_0 W D_0)^{-1} (D'_0 W S W D_0) (D'_0 W D_0)^{-1} = (D'_0 W D_0)^{-1}\n",
    "$$\n",
    "\n",
    "$$\n",
    "AsymV = V/T\n",
    "$$\n",
    "$$\n",
    "D_0 = E \\left[ \\frac{\\partial f_t(b_0)}{\\partial b'} \\right] =\\begin{pmatrix} \\dfrac{\\partial f_t(\\alpha, \\beta)}{\\partial \\alpha} \\\\ \\dfrac{\\partial f_t(\\alpha, \\beta)}{\\partial \\beta} \\end{pmatrix}^{'} = \\begin{pmatrix} \\beta R_{1, t+1}^R (\\dfrac{C_{t+1}}{C_t})^{-\\alpha}ln(\\dfrac{C_{t+1}}{C_t}) \\\\ (\\dfrac{C_{t+1}}{C_t})^{-\\alpha} R_{1, t+1}^R \\end{pmatrix}^{'}\n",
    "$$"
   ]
  },
  {
   "cell_type": "markdown",
   "metadata": {},
   "source": [
    "#### 2021 data"
   ]
  },
  {
   "cell_type": "code",
   "execution_count": 38,
   "metadata": {},
   "outputs": [],
   "source": [
    "a = theta2[1]\n",
    "b = theta2[0]\n",
    "\n",
    "\n",
    "# Reshape C_np to perform element-wise operations with R_np\n",
    "C_np_reshaped = C_np.reshape(-1, 1)\n",
    "\n",
    "# Compute the common terms\n",
    "C_power_neg_a = C_np_reshaped ** (-a)  # shape (284, 1)\n",
    "R_times_C_power_neg_a = R_np * C_power_neg_a  # shape (284, 10)\n",
    "ln_C = np.log(C_np_reshaped)  # shape (284, 1)\n",
    "\n",
    "# Compute the Jacobian terms\n",
    "jacobian_first_term = b * R_times_C_power_neg_a * ln_C  # shape (284, 10)\n",
    "jacobian_second_term = C_power_neg_a * R_np  # shape (284, 10)\n",
    "\n",
    "# Combine the terms to form the full Jacobian for each R_ij\n",
    "# Stacking the Jacobian matrices horizontally\n",
    "# Note: We repeat ln_C and C_power_neg_a across the second dimension (axis=1) to match the shape of R_np\n",
    "Jacobian = np.stack((jacobian_first_term, jacobian_second_term), axis=2)  # shape (284, 10, 2)\n",
    "\n",
    "D_0 = Jacobian.mean(axis=0)"
   ]
  },
  {
   "cell_type": "code",
   "execution_count": 39,
   "metadata": {},
   "outputs": [
    {
     "data": {
      "text/plain": [
       "matrix([[ 2.15077229e+08, -9.71260198e+05],\n",
       "        [-9.71260198e+05,  4.38608740e+03]])"
      ]
     },
     "execution_count": 39,
     "metadata": {},
     "output_type": "execute_result"
    }
   ],
   "source": [
    "W_full = getS(theta2)\n",
    "\n",
    "asym_var = np.linalg.inv(np.matmul(np.matmul(np.transpose(D_0), W_full), D_0))/ (len(df))\n",
    "asym_var"
   ]
  },
  {
   "cell_type": "code",
   "execution_count": 40,
   "metadata": {},
   "outputs": [
    {
     "data": {
      "text/plain": [
       "array([14665.5115348 ,    66.22754257])"
      ]
     },
     "execution_count": 40,
     "metadata": {},
     "output_type": "execute_result"
    }
   ],
   "source": [
    "SE = np.diag((asym_var))**(1/2)\n",
    "SE"
   ]
  },
  {
   "cell_type": "markdown",
   "metadata": {},
   "source": [
    "#### 2019 data"
   ]
  },
  {
   "cell_type": "code",
   "execution_count": 41,
   "metadata": {},
   "outputs": [
    {
     "data": {
      "text/plain": [
       "matrix([[ 2.90732010e+08, -1.23322363e+06],\n",
       "        [-1.23322363e+06,  5.23107440e+03]])"
      ]
     },
     "execution_count": 41,
     "metadata": {},
     "output_type": "execute_result"
    }
   ],
   "source": [
    "a = theta2_c[1]\n",
    "b = theta2_c[0]\n",
    "\n",
    "\n",
    "# Reshape C_np to perform element-wise operations with R_np\n",
    "C_np_reshaped = C_np_c.reshape(-1, 1)\n",
    "\n",
    "# Compute the common terms\n",
    "C_power_neg_a = C_np_reshaped ** (-a)  # shape (284, 1)\n",
    "R_times_C_power_neg_a = R_np_c * C_power_neg_a  # shape (284, 10)\n",
    "ln_C = np.log(C_np_reshaped)  # shape (284, 1)\n",
    "\n",
    "# Compute the Jacobian terms\n",
    "jacobian_first_term = b * R_times_C_power_neg_a * ln_C  # shape (284, 10)\n",
    "jacobian_second_term = C_power_neg_a * R_np_c  # shape (284, 10)\n",
    "\n",
    "# Combine the terms to form the full Jacobian for each R_ij\n",
    "# Stacking the Jacobian matrices horizontally\n",
    "# Note: We repeat ln_C and C_power_neg_a across the second dimension (axis=1) to match the shape of R_np\n",
    "Jacobian = np.stack((jacobian_first_term, jacobian_second_term), axis=2)  # shape (284, 10, 2)\n",
    "\n",
    "D_0_ = Jacobian.mean(axis=0)\n",
    "\n",
    "W_full_ = getS(theta2_c)\n",
    "\n",
    "asym_var_ = np.linalg.inv(np.matmul(np.matmul(np.transpose(D_0_), W_full_), D_0_))/ (len(df))\n",
    "asym_var_"
   ]
  },
  {
   "cell_type": "code",
   "execution_count": 42,
   "metadata": {},
   "outputs": [
    {
     "data": {
      "text/plain": [
       "array([17050.86537737,    72.3261668 ])"
      ]
     },
     "execution_count": 42,
     "metadata": {},
     "output_type": "execute_result"
    }
   ],
   "source": [
    "SE_ = np.diag((asym_var_))**(1/2)\n",
    "SE_"
   ]
  },
  {
   "cell_type": "markdown",
   "metadata": {},
   "source": [
    "## HJ-test:\n",
    "$$\n",
    "J = T \\cdot [g_T(\\hat{\\theta}_2)'] \\hat{S}^{-1} [g_T(\\hat{\\theta}_2)], \\quad J \\overset{d}{\\rightarrow} \\chi^2(r - q) = \\chi^2(8)\n",
    "$$\n"
   ]
  },
  {
   "cell_type": "markdown",
   "metadata": {},
   "source": [
    "#### 2021 data"
   ]
  },
  {
   "cell_type": "code",
   "execution_count": 52,
   "metadata": {},
   "outputs": [],
   "source": [
    "def othro(theta):\n",
    "    b,a = theta\n",
    "\n",
    "    # f = np.multiply(R_np, ((C_np)**(-a)).reshape(-1, 1)) \n",
    "    f = np.multiply(R_np, np.matrix(((C_np)**(-a))).T)\n",
    "    f = b * f - 1\n",
    "    return f\n",
    "\n",
    "def obj(theta,W):\n",
    "    b,a = theta\n",
    "    f = othro(theta)\n",
    "    g = f.mean(axis = 0)\n",
    "    # W = np.identity(10)\n",
    "    return (g@W@g.T)[0,0]"
   ]
  },
  {
   "cell_type": "code",
   "execution_count": 53,
   "metadata": {},
   "outputs": [
    {
     "data": {
      "text/plain": [
       "(17.60493319835785, 0.024391436474068495)"
      ]
     },
     "execution_count": 53,
     "metadata": {},
     "output_type": "execute_result"
    }
   ],
   "source": [
    "from scipy.stats import chi2\n",
    "W_full = np.linalg.inv(getS(theta2))\n",
    "J = obj(theta2,W_full) * len(df)\n",
    "p_val = 1 - chi2.cdf(J, df= 8)\n",
    "\n",
    "J, p_val"
   ]
  },
  {
   "cell_type": "markdown",
   "metadata": {},
   "source": [
    "#### 2019 data"
   ]
  },
  {
   "cell_type": "code",
   "execution_count": 54,
   "metadata": {},
   "outputs": [],
   "source": [
    "def othro(theta):\n",
    "    b,a = theta\n",
    "\n",
    "    # f = np.multiply(R_np, ((C_np)**(-a)).reshape(-1, 1)) \n",
    "    f = np.multiply(R_np_c, np.matrix(((C_np_c)**(-a))).T)\n",
    "    f = b * f - 1\n",
    "    return f\n",
    "\n",
    "def obj(theta,W):\n",
    "    b,a = theta\n",
    "    f = othro(theta)\n",
    "    g = f.mean(axis = 0)\n",
    "    # W = np.identity(10)\n",
    "    return (g@W@g.T)[0,0]"
   ]
  },
  {
   "cell_type": "code",
   "execution_count": 55,
   "metadata": {},
   "outputs": [
    {
     "data": {
      "text/plain": [
       "(10.959951469679448, 0.20397874714106146)"
      ]
     },
     "execution_count": 55,
     "metadata": {},
     "output_type": "execute_result"
    }
   ],
   "source": [
    "W_full_ = np.linalg.inv(getS(theta2_c))\n",
    "J = obj(theta2_c,W_full_) * len(df)\n",
    "p_val = 1 - chi2.cdf(J, df= 8)\n",
    "\n",
    "J, p_val"
   ]
  },
  {
   "cell_type": "markdown",
   "metadata": {},
   "source": [
    "We can't reject the null hypothesis if we exclude the covid data. The covid outlier make the model estimation not statistically significant."
   ]
  },
  {
   "cell_type": "markdown",
   "metadata": {},
   "source": [
    "## Q2"
   ]
  },
  {
   "cell_type": "markdown",
   "metadata": {},
   "source": []
  }
 ],
 "metadata": {
  "kernelspec": {
   "display_name": "base",
   "language": "python",
   "name": "python3"
  },
  "language_info": {
   "codemirror_mode": {
    "name": "ipython",
    "version": 3
   },
   "file_extension": ".py",
   "mimetype": "text/x-python",
   "name": "python",
   "nbconvert_exporter": "python",
   "pygments_lexer": "ipython3",
   "version": "3.11.3"
  }
 },
 "nbformat": 4,
 "nbformat_minor": 2
}
